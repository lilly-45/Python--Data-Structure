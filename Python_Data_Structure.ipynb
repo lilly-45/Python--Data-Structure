{
  "nbformat": 4,
  "nbformat_minor": 0,
  "metadata": {
    "colab": {
      "provenance": []
    },
    "kernelspec": {
      "name": "python3",
      "display_name": "Python 3"
    },
    "language_info": {
      "name": "python"
    }
  },
  "cells": [
    {
      "cell_type": "markdown",
      "source": [
        "# Python - Data Structure\n",
        "\n",
        "\n",
        "     # Theoritical Questions  \n",
        "\n",
        "\n",
        "1. What are data structures, and why are they important?\n",
        "\n",
        "  -> Data Structure is a away of organizing and storing data ,so that they can be manage or access in a efficient manner. They help to organize data for easy processing, searching, updating and deletion.\n",
        "\n",
        "2. Explain the difference between mutable and immutable data types with examples.\n",
        "\n",
        "   -> Data types are classified into mutable and immutable based on whether their content can be changed after creation. Mutable data types can be modified after the creation of Data. Immutable data types cannot be modified after the data creation. Examples of Mutable data are List,set,dictionary. Examples of Immutable data are Tuple, String,Integer,Boolean,Float.\n",
        "\n",
        "3. What are the main differences between lists and tuples in Python?\n",
        "\n",
        "   ->  a.List\n",
        "\n",
        "      * Mutable in nature.\n",
        "      * It is defined as square brackets [].\n",
        "      * It function is slower as it takes more memory.\n",
        "      * It is not fixed and it is flexible.\n",
        "        \n",
        "       b. Tuple\n",
        "\n",
        "       * Immutable in nature.\n",
        "       * It is defined as Parentheses().\n",
        "       * It function is faster as it takes less memory.\n",
        "       * It is fixed so data cannot be modified.\n",
        "       * It is used as Dictionary keys.\n",
        "\n",
        "\n",
        "4.  Describe how dictionaries store data.\n",
        "\n",
        "   -> A dictionary in Python is a collection of key-value pairs that allows\n",
        "     to store and retrieve data efficiently. Hashing the Key, Indexing, Storing the Key-Value Pair, ..etc.\n",
        "\n",
        "     Example : student = {\n",
        "    \"reg. no\": 001,\n",
        "\n",
        "    \"name\": \"Diyya\"\n",
        "\n",
        "    \"marks\": [85, 80, 91]\n",
        "}\n",
        "\n",
        "  Access value:\n",
        "\n",
        "  print(student[\"name\"])     # Output: Diyya\n",
        "\n",
        "  Add new key-value:\n",
        "\n",
        "  student[\"grade\"] = \"A\"\n",
        "\n",
        "  Update value:\n",
        "\n",
        "  student[\"id\"] = 001\n",
        "\n",
        "  Delete key-value:\n",
        "\n",
        "  del student[\"marks\"]\n",
        "\n",
        "\n",
        "\n",
        "5. Why might you use a set instead of a list in Python?\n",
        "\n",
        "   -> A set automatically removes duplicates, while a list allows them. Use of a set when frequently need to check whether items are present.\n",
        "\n",
        "    my_list = [10, 20, 20, 30]\n",
        "\n",
        "    my_set = set(my_list)\n",
        "\n",
        "    print(my_set)       \n",
        "    \n",
        "     Output: {10, 20, 30}\n",
        "\n",
        "\n",
        "6. What is a string in Python, and how is it different from a list?\n",
        "\n",
        "   -> A String is a sequence of character that represents and manipulate textual data. Its characters are represented using numerical values. It is enclosed in quotes. String contains only text characters whereas, List contains all the charaters (numbers,texts...etc...). It is immutable in nature.\n",
        "\n",
        "\n",
        "7. How do tuples ensure data integrity in Python ?\n",
        "\n",
        "  -> Tuples in Python ensure data integrity mainly through their immutability.Once a tuple is created, its content cannot be changed.\n",
        "\n",
        "\n",
        "8. What is a hash table, and how does it relate to dictionaries in Python ?\n",
        "\n",
        "   -> A hash table is a data structure that stores key-value pairs and allows fast data access using a hashing mechanism. It is related to dictionaries of python in fast accessing and hashable in every elements of dictionary (string, integer, tuple).\n",
        "\n",
        "\n",
        "9. Can lists contain different data types in Python?\n",
        "\n",
        "   -> Yes, they can store elements of multiple data types within the same\n",
        "     list.\n",
        "\n",
        "\n",
        "10. Explain why strings are immutable in Python?\n",
        "\n",
        "   -> If strings were mutable, their values could change accidentally, causing bugs and security issues, especially when used as dictionary keys. So it is immutable which gives protection for the data.\n",
        "\n",
        "\n",
        "11. What advantages do dictionaries offer over lists for certain tasks?\n",
        "\n",
        "   -> Dictionaries offer specific advantages for tasks that involve key-based access and fast lookups. Lists working with a simple sequence of items and the order matters.\n",
        "\n",
        "12. Describe a scenario where using a tuple would be preferable over a list?\n",
        "\n",
        "     -> You cannot use a list as a dictionary key, but you can use a tuple because it is a immutable and hashable. Tuple is more protective which its data is unchangeable unlike Lists.\n",
        "\n",
        "13. How do sets handle duplicate values in Python?\n",
        "\n",
        "   -> Sets automatically eliminate duplicate values. When you create or update a set, only unique elements are stored and duplicates are ignored. Sets use a hash table to track values. If a value with the same hash already exists, Python won’t add it again.\n",
        "\n",
        "14. How does the “in” keyword work differently for lists and dictionaries?\n",
        "\n",
        "   -> The \"in\" keyword is used in Python to check for membership but how it behaves depends on the data structure use. When used with a list, in checks whether a value exists in the list. When used with a dictionary, in checks for the presence of a key, not a value.\n",
        "\n",
        "15. Can you modify the elements of a tuple? Explain why or why not?\n",
        "\n",
        "   -> No, we cannot modify the elements of a tuple because tuples are immutable.\n",
        "\n",
        "16. What is a nested dictionary, and give an example of its use case.\n",
        "\n",
        "   -> A Nested Dictionary is a dictionary of dictionaries.\n",
        "\n",
        "\n",
        "17. Describe the time complexity of accessing elements in a dictionary?\n",
        "\n",
        "   -> In Python, accessing elements in a dictionary by key is extremely fast due to its underlying implementation using a hash table. This means that accessing a value by its key takes constant time, no matter how many items are in the dictionary.\n",
        "\n",
        "18. In what situations are lists preferred over dictionaries?\n",
        "\n",
        "   -> Lists maintain the order of elements, which is useful when Sequence or position is important. Lists can store duplicates unlike dictionaries.\n",
        "\n",
        "19. Why are dictionaries considered unordered, and how does that affect data retrieval?\n",
        "\n",
        "   -> Dictionaries are mainly focuses on key-based lookups, not ordering. They are preserved insertion keys.\n",
        "\n",
        "20. Explain the difference between a list and a dictionary in terms of data retrieval.\n",
        "   \n",
        "   -> Lists and Dictionaries store data but they retrive data in different ways. In List, data are retrived by using numeric index and Dictionaries, data are retrived by using keys like hashs. keys must be unique.\n",
        "\n",
        "\n",
        "\n",
        "\n",
        "\n",
        "\n",
        "\n",
        "\n",
        "\n",
        "\n",
        "\n",
        "\n",
        "\n",
        "\n",
        "\n",
        "\n",
        "\n",
        "\n",
        "\n",
        "\n",
        "\n",
        "\n",
        "\n",
        "\n",
        "\n",
        "\n",
        "\n",
        "\n",
        "      \n",
        "\n",
        "\n",
        "\n",
        "\n",
        "\n",
        "\n",
        "\n"
      ],
      "metadata": {
        "id": "PtQS132h1FOS"
      }
    },
    {
      "cell_type": "code",
      "execution_count": null,
      "metadata": {
        "id": "OgsRKFcc07g9"
      },
      "outputs": [],
      "source": [
        "# Practical Questions"
      ]
    },
    {
      "cell_type": "markdown",
      "source": [
        "1. Write a code to create a string with your name and print it."
      ],
      "metadata": {
        "id": "NjAygzl-nVfN"
      }
    },
    {
      "cell_type": "code",
      "source": [
        "name = \"Diyya Jacob\"\n",
        "print (\"My name is:\", name)"
      ],
      "metadata": {
        "colab": {
          "base_uri": "https://localhost:8080/"
        },
        "id": "hHgo7m6GnrZZ",
        "outputId": "8a9d0da2-c70e-41e2-833d-c0fa1542a5a5"
      },
      "execution_count": null,
      "outputs": [
        {
          "output_type": "stream",
          "name": "stdout",
          "text": [
            "My name is: Diyya Jacob\n"
          ]
        }
      ]
    },
    {
      "cell_type": "markdown",
      "source": [
        "2. Write a code to find the length of the string \"Hello World\"."
      ],
      "metadata": {
        "id": "ytcoCsWgol5b"
      }
    },
    {
      "cell_type": "code",
      "source": [
        "text = \"Hello world\"\n",
        "length = len(text)\n",
        "\n",
        "print(\"length of the string:\", length)"
      ],
      "metadata": {
        "colab": {
          "base_uri": "https://localhost:8080/"
        },
        "id": "GVeeNBPJoFOc",
        "outputId": "f0bea42b-ff87-4ecb-e95e-55734cd11dcc"
      },
      "execution_count": null,
      "outputs": [
        {
          "output_type": "stream",
          "name": "stdout",
          "text": [
            "length of the string: 11\n"
          ]
        }
      ]
    },
    {
      "cell_type": "markdown",
      "source": [
        "3. Write a code to slice the first 3 characters from the string \"Python Programming\"."
      ],
      "metadata": {
        "id": "kD6TEwq6ppHn"
      }
    },
    {
      "cell_type": "code",
      "source": [
        "text = \"python programming\"\n",
        "\n",
        "# slice the first 3 characters\n",
        "slice =text [:3]\n",
        "\n",
        "print(\"first 3 characters are:\",slice)"
      ],
      "metadata": {
        "colab": {
          "base_uri": "https://localhost:8080/"
        },
        "id": "ETAImB4bpe0q",
        "outputId": "dbadedac-9207-4d7c-a612-5248e8cc5866"
      },
      "execution_count": null,
      "outputs": [
        {
          "output_type": "stream",
          "name": "stdout",
          "text": [
            "first 3 characters are: pyt\n"
          ]
        }
      ]
    },
    {
      "cell_type": "markdown",
      "source": [
        "4. Write a code to convert the string \"hello\" to uppercase."
      ],
      "metadata": {
        "id": "6ZEIqRelr-n2"
      }
    },
    {
      "cell_type": "code",
      "source": [
        "text = \"hello\"\n",
        "uppercase_text = text.upper()\n",
        "\n",
        "print(\"upper_case text the word: \",uppercase_text)"
      ],
      "metadata": {
        "id": "Ezx2YRxDqhUs",
        "colab": {
          "base_uri": "https://localhost:8080/"
        },
        "outputId": "3c3e10d2-75d1-4418-8bb2-d3896225d296"
      },
      "execution_count": null,
      "outputs": [
        {
          "output_type": "stream",
          "name": "stdout",
          "text": [
            "upper_case text the word:  HELLO\n"
          ]
        }
      ]
    },
    {
      "cell_type": "markdown",
      "source": [
        "5. Write a code to replace the word \"apple\" with \"orange\" in the string \"I like apple\"."
      ],
      "metadata": {
        "id": "kyRIahb9MeOb"
      }
    },
    {
      "cell_type": "code",
      "source": [
        "# Original String\n",
        "text = \"apple\"\n",
        "\n",
        "# Replace \"apple\" with \"orange\" in the string \"I like apple\"\n",
        "new_text = text.replace(\"apple\",\"orange\")\n",
        "\n",
        "print(\"original string:\",text)\n",
        "print(\"replace string:\",new_text)"
      ],
      "metadata": {
        "colab": {
          "base_uri": "https://localhost:8080/"
        },
        "id": "Y9X1CuZtLfye",
        "outputId": "1e92d50d-1be0-4aec-e6ab-73c28d6ee244"
      },
      "execution_count": null,
      "outputs": [
        {
          "output_type": "stream",
          "name": "stdout",
          "text": [
            "original string: apple\n",
            "replace string: orange\n"
          ]
        }
      ]
    },
    {
      "cell_type": "markdown",
      "source": [
        "6. Write a code to create a list with numbers 1 to 5 and print it."
      ],
      "metadata": {
        "id": "VuP6Uo_DSfg2"
      }
    },
    {
      "cell_type": "code",
      "source": [
        "numbers = [1,2,3,4,5]\n",
        "\n",
        "print(numbers)"
      ],
      "metadata": {
        "colab": {
          "base_uri": "https://localhost:8080/"
        },
        "id": "UiZ3JvS6PQE7",
        "outputId": "1f8e8238-fac2-4783-d8a6-06be3654cca8"
      },
      "execution_count": null,
      "outputs": [
        {
          "output_type": "stream",
          "name": "stdout",
          "text": [
            "[1, 2, 3, 4, 5]\n"
          ]
        }
      ]
    },
    {
      "cell_type": "markdown",
      "source": [
        "7.  Write a code to append the number 10 to the list [1, 2, 3, 4]."
      ],
      "metadata": {
        "id": "5FHUSXwdUxC0"
      }
    },
    {
      "cell_type": "code",
      "source": [
        "my_list = [1,2,3,4]\n",
        "my_list.append(10)\n",
        "\n",
        "print(my_list)"
      ],
      "metadata": {
        "colab": {
          "base_uri": "https://localhost:8080/"
        },
        "id": "9LSWBleSUisz",
        "outputId": "9704cb81-a7ce-4238-b2f8-2ffba539722e"
      },
      "execution_count": null,
      "outputs": [
        {
          "output_type": "stream",
          "name": "stdout",
          "text": [
            "[1, 2, 3, 4, 10]\n"
          ]
        }
      ]
    },
    {
      "cell_type": "markdown",
      "source": [
        "8. Write a code to remove the number 3 from the list [1, 2, 3, 4, 5]."
      ],
      "metadata": {
        "id": "UcFGy0jDWREX"
      }
    },
    {
      "cell_type": "code",
      "source": [
        "my_list =[1,2,3,4,5]\n",
        "remove = my_list.remove(3)\n",
        "\n",
        "print(my_list)"
      ],
      "metadata": {
        "id": "h3-bLCgZWJTv",
        "colab": {
          "base_uri": "https://localhost:8080/"
        },
        "outputId": "2e5169a6-06b6-4751-c18a-68481a470bcb"
      },
      "execution_count": null,
      "outputs": [
        {
          "output_type": "stream",
          "name": "stdout",
          "text": [
            "[1, 2, 4, 5]\n"
          ]
        }
      ]
    },
    {
      "cell_type": "markdown",
      "source": [
        "9. Write a code to access the second element in the list ['a', 'b', 'c', 'd']"
      ],
      "metadata": {
        "id": "_tG7oYPTb0gy"
      }
    },
    {
      "cell_type": "code",
      "source": [
        "my_list = [\"a\",\"b\",\"c\",\"d\"]\n",
        "second_element = my_list[1]\n",
        "\n",
        "print(second_element)"
      ],
      "metadata": {
        "colab": {
          "base_uri": "https://localhost:8080/"
        },
        "id": "_llU_JpKbrwf",
        "outputId": "2d419829-ca5e-4889-85ac-50973f0eb184"
      },
      "execution_count": null,
      "outputs": [
        {
          "output_type": "stream",
          "name": "stdout",
          "text": [
            "b\n"
          ]
        }
      ]
    },
    {
      "cell_type": "markdown",
      "source": [
        "10. Write a code to reverse the list [10, 20, 30, 40, 50]."
      ],
      "metadata": {
        "id": "OpbKo2yLdGup"
      }
    },
    {
      "cell_type": "code",
      "source": [
        "my_list = [10,20,30,40,50]\n",
        "reverse = my_list.reverse()\n",
        "\n",
        "print(my_list)"
      ],
      "metadata": {
        "colab": {
          "base_uri": "https://localhost:8080/"
        },
        "id": "qWn9J0LKdRfR",
        "outputId": "7e1727e6-2ba4-490c-856e-40d8de291e90"
      },
      "execution_count": null,
      "outputs": [
        {
          "output_type": "stream",
          "name": "stdout",
          "text": [
            "[50, 40, 30, 20, 10]\n"
          ]
        }
      ]
    },
    {
      "cell_type": "markdown",
      "source": [
        "11. Write a code to create a tuple with the elements 100, 200, 300 and print it."
      ],
      "metadata": {
        "id": "sFNTmDLteJ_-"
      }
    },
    {
      "cell_type": "code",
      "source": [
        "my_tuple = (100,200,300)\n",
        "elements = my_tuple\n",
        "\n",
        "print(elements)"
      ],
      "metadata": {
        "id": "2vtDMNNZdxu0",
        "colab": {
          "base_uri": "https://localhost:8080/"
        },
        "outputId": "3d29e418-cf0b-4054-889c-47823fece1a4"
      },
      "execution_count": null,
      "outputs": [
        {
          "output_type": "stream",
          "name": "stdout",
          "text": [
            "(100, 200, 300)\n"
          ]
        }
      ]
    },
    {
      "cell_type": "markdown",
      "source": [
        "12. Write a code to access the second-to-last element of the tuple ('red', 'green', 'blue', 'yellow')."
      ],
      "metadata": {
        "id": "wD3a1ZFVJ2hk"
      }
    },
    {
      "cell_type": "code",
      "source": [
        "my_tuple = (\"red\",\"green\",\"blue\",\"yellow\")\n",
        "second_to_last = my_tuple[-2]\n",
        "\n",
        "print(\"second-to-last element:\",second_to_last)"
      ],
      "metadata": {
        "id": "5H197mgxXILa",
        "colab": {
          "base_uri": "https://localhost:8080/"
        },
        "outputId": "881fe835-b984-4c58-bb5e-1118770d6fc4"
      },
      "execution_count": null,
      "outputs": [
        {
          "output_type": "stream",
          "name": "stdout",
          "text": [
            "second-to-last element: blue\n"
          ]
        }
      ]
    },
    {
      "cell_type": "markdown",
      "source": [
        "13. Write a code to find the minimum number in the tuple (10, 20, 5, 15)."
      ],
      "metadata": {
        "id": "rPY-KkBRJzv-"
      }
    },
    {
      "cell_type": "code",
      "source": [
        "my_tuple = (10,20,5,15)\n",
        "minimum = min(my_tuple)\n",
        "\n",
        "print(\"minimum number:\",minimum)"
      ],
      "metadata": {
        "colab": {
          "base_uri": "https://localhost:8080/"
        },
        "id": "2eiuW79eLk-a",
        "outputId": "1320e729-cf91-4080-8e25-783fde7160b4"
      },
      "execution_count": null,
      "outputs": [
        {
          "output_type": "stream",
          "name": "stdout",
          "text": [
            "minimum number: 5\n"
          ]
        }
      ]
    },
    {
      "cell_type": "markdown",
      "source": [
        "14. Write a code to find the index of the element \"cat\" in the tuple ('dog', 'cat', 'rabbit')."
      ],
      "metadata": {
        "id": "4K9KKVy_OVWj"
      }
    },
    {
      "cell_type": "code",
      "source": [
        "my_tuple = (\"dog\",\"cat\",\"rabbit\")\n",
        "cat = my_tuple.index(\"cat\")\n",
        "\n",
        "print(\"index of cat:\",cat)"
      ],
      "metadata": {
        "colab": {
          "base_uri": "https://localhost:8080/"
        },
        "id": "ZbY9n_tfNaIN",
        "outputId": "b5793ec7-119f-4f8d-d3ae-dc6729ca5391"
      },
      "execution_count": null,
      "outputs": [
        {
          "output_type": "stream",
          "name": "stdout",
          "text": [
            "index of cat: 1\n"
          ]
        }
      ]
    },
    {
      "cell_type": "markdown",
      "source": [
        "15. Write a code to create a tuple containing three different fruits and check if \"kiwi\" is in it."
      ],
      "metadata": {
        "id": "p9bXWCqaPQ8X"
      }
    },
    {
      "cell_type": "code",
      "source": [
        "my_tuple = (\"grapes\",\"orange\",\"pineapple\")\n",
        "kiwi_in_tuple = \"kiwi\"in my_tuple\n",
        "\n",
        "print(\"kiwi is in the tuple:\",kiwi_in_tuple)"
      ],
      "metadata": {
        "colab": {
          "base_uri": "https://localhost:8080/"
        },
        "id": "810D_dq4PJTJ",
        "outputId": "087340a2-5eba-4621-808f-b235fb57acd2"
      },
      "execution_count": null,
      "outputs": [
        {
          "output_type": "stream",
          "name": "stdout",
          "text": [
            "kiwi is in the tuple: False\n"
          ]
        }
      ]
    },
    {
      "cell_type": "markdown",
      "source": [
        "16. Write a code to create a set with the elements 'a', 'b', 'c' and print it."
      ],
      "metadata": {
        "id": "D3qaX-FaRXZK"
      }
    },
    {
      "cell_type": "code",
      "source": [
        "my_set = {'a','b','c'}\n",
        "elements = my_set\n",
        "\n",
        "print(elements)"
      ],
      "metadata": {
        "colab": {
          "base_uri": "https://localhost:8080/"
        },
        "id": "wFQi4eMVRbfS",
        "outputId": "2930cf88-5541-4c11-8a2f-2776428923e8"
      },
      "execution_count": null,
      "outputs": [
        {
          "output_type": "stream",
          "name": "stdout",
          "text": [
            "{'a', 'c', 'b'}\n"
          ]
        }
      ]
    },
    {
      "cell_type": "markdown",
      "source": [
        "17. Write a code to clear all elements from the set {1, 2, 3, 4, 5}."
      ],
      "metadata": {
        "id": "mQxIras_dyXl"
      }
    },
    {
      "cell_type": "code",
      "source": [
        "my_set = {1,2,3,4,5}\n",
        "my_set.clear()\n",
        "\n",
        "print(my_set)"
      ],
      "metadata": {
        "colab": {
          "base_uri": "https://localhost:8080/"
        },
        "id": "NZB59f-ld5WM",
        "outputId": "a8fe6f8e-589b-440d-aa84-2bfc24046ef0"
      },
      "execution_count": null,
      "outputs": [
        {
          "output_type": "stream",
          "name": "stdout",
          "text": [
            "set()\n"
          ]
        }
      ]
    },
    {
      "cell_type": "markdown",
      "source": [
        "18. Write a code to remove the element 4 from the set {1, 2, 3, 4}."
      ],
      "metadata": {
        "id": "zGCN9WlafA1r"
      }
    },
    {
      "cell_type": "code",
      "source": [
        "my_set = {1,2,3,4}\n",
        "my_set.remove(4)\n",
        "\n",
        "print(my_set)"
      ],
      "metadata": {
        "colab": {
          "base_uri": "https://localhost:8080/"
        },
        "id": "xTGS_D6yfJ4t",
        "outputId": "b9692615-10e1-4aaf-9002-784057d43cb9"
      },
      "execution_count": null,
      "outputs": [
        {
          "output_type": "stream",
          "name": "stdout",
          "text": [
            "{1, 2, 3}\n"
          ]
        }
      ]
    },
    {
      "cell_type": "markdown",
      "source": [
        "19. Write a code to find the union of two sets {1, 2, 3} and {3, 4, 5}."
      ],
      "metadata": {
        "id": "OMuWOXYzf0MQ"
      }
    },
    {
      "cell_type": "code",
      "source": [
        "my_set1 = {1,2,3}\n",
        "my_set2 = {3,4,5}\n",
        "union = my_set1.union(my_set2)\n",
        "\n",
        "print(union)"
      ],
      "metadata": {
        "colab": {
          "base_uri": "https://localhost:8080/"
        },
        "id": "zMZUBBPOfqd3",
        "outputId": "6109ad61-1bb7-4f14-fbfa-7ceb77710108"
      },
      "execution_count": null,
      "outputs": [
        {
          "output_type": "stream",
          "name": "stdout",
          "text": [
            "{1, 2, 3, 4, 5}\n"
          ]
        }
      ]
    },
    {
      "cell_type": "markdown",
      "source": [
        "20. Write a code to find the intersection of two sets {1, 2, 3} and {2, 3, 4}."
      ],
      "metadata": {
        "id": "e5_tm5rjgifK"
      }
    },
    {
      "cell_type": "code",
      "source": [
        "my_set1 = {1,2,3}\n",
        "my_set2 = {2,3,4}\n",
        "intersection = my_set1.intersection(my_set2)\n",
        "\n",
        "print(intersection)\n"
      ],
      "metadata": {
        "colab": {
          "base_uri": "https://localhost:8080/"
        },
        "id": "qKG2zPGpgc2T",
        "outputId": "9aef548d-cd8c-4e48-ce64-fb00531d4686"
      },
      "execution_count": null,
      "outputs": [
        {
          "output_type": "stream",
          "name": "stdout",
          "text": [
            "{2, 3}\n"
          ]
        }
      ]
    },
    {
      "cell_type": "markdown",
      "source": [
        "21. Write a code to create a dictionary with the keys \"name\", \"age\", and \"city\", and print it."
      ],
      "metadata": {
        "id": "br9FZZeZhRjs"
      }
    },
    {
      "cell_type": "code",
      "source": [
        "dict_ = {\"name\":\"Diyya\",\"age\":\"23\",\"city\":\"kochi\"}\n",
        "\n",
        "print(dict_)"
      ],
      "metadata": {
        "colab": {
          "base_uri": "https://localhost:8080/"
        },
        "id": "208olJY1hITt",
        "outputId": "38f3d91f-f0dc-487a-8a53-013cd83408d2"
      },
      "execution_count": null,
      "outputs": [
        {
          "output_type": "stream",
          "name": "stdout",
          "text": [
            "{'name': 'Diyya', 'age': '23', 'city': 'kochi'}\n"
          ]
        }
      ]
    },
    {
      "cell_type": "markdown",
      "source": [
        "22. Write a code to add a new key-value pair \"country\": \"USA\" to the dictionary {'name': 'John', 'age': 25}."
      ],
      "metadata": {
        "id": "VoBbCOZGivkR"
      }
    },
    {
      "cell_type": "code",
      "source": [
        "dict_= {'name': 'John', 'age': 25}\n",
        "\n",
        "# Add new key-value pair\n",
        "dict_['country'] = 'USA'\n",
        "\n",
        "print(dict_)\n"
      ],
      "metadata": {
        "id": "kzr_HfQ6izNR",
        "colab": {
          "base_uri": "https://localhost:8080/"
        },
        "outputId": "8e8476cd-cae9-4dd8-f74f-81ca11226e38"
      },
      "execution_count": null,
      "outputs": [
        {
          "output_type": "stream",
          "name": "stdout",
          "text": [
            "{'name': 'John', 'age': 25, 'country': 'USA'}\n"
          ]
        }
      ]
    },
    {
      "cell_type": "markdown",
      "source": [
        "23. Write a code to access the value associated with the key \"name\" in the dictionary {'name': 'Alice', 'age': 30}."
      ],
      "metadata": {
        "id": "Zj1mUKWrkfy4"
      }
    },
    {
      "cell_type": "code",
      "source": [
        "dict_= {'name': 'Alice', 'age': 30}\n",
        "name_value = dict_['name']\n",
        "\n",
        "print(\"Name:\", name_value)\n"
      ],
      "metadata": {
        "colab": {
          "base_uri": "https://localhost:8080/"
        },
        "id": "UwpCELd4kU75",
        "outputId": "dadf4300-7cff-407f-8814-455b065e611a"
      },
      "execution_count": null,
      "outputs": [
        {
          "output_type": "stream",
          "name": "stdout",
          "text": [
            "Name: Alice\n"
          ]
        }
      ]
    },
    {
      "cell_type": "markdown",
      "source": [
        "24. Write a code to remove the key \"age\" from the dictionary {'name': 'Bob', 'age': 22, 'city': 'New York'}."
      ],
      "metadata": {
        "id": "wBRPexe7lfjb"
      }
    },
    {
      "cell_type": "code",
      "source": [
        "dict_= {'name': 'Bob', 'age': 22, 'city': 'New York'}\n",
        "dict_.pop('age')\n",
        "\n",
        "\n",
        "print(dict_)\n"
      ],
      "metadata": {
        "colab": {
          "base_uri": "https://localhost:8080/"
        },
        "id": "2GlQ7urslXdY",
        "outputId": "c5622640-ee05-4338-f602-3539329b4c5d"
      },
      "execution_count": null,
      "outputs": [
        {
          "output_type": "stream",
          "name": "stdout",
          "text": [
            "{'name': 'Bob', 'city': 'New York'}\n"
          ]
        }
      ]
    },
    {
      "cell_type": "markdown",
      "source": [
        "25. Write a code to check if the key \"city\" exists in the dictionary {'name': 'Alice', 'city': 'Paris'}."
      ],
      "metadata": {
        "id": "fudG064qnAVd"
      }
    },
    {
      "cell_type": "code",
      "source": [
        "dict_ = {'name': 'Alice', 'city': 'Paris'}\n",
        "city_exists = dict_[\"city\"]\n",
        "\n",
        "print(\"City exists in dictionary:\", city_exists)"
      ],
      "metadata": {
        "id": "vRh_mau7nH-0",
        "colab": {
          "base_uri": "https://localhost:8080/"
        },
        "outputId": "13fe2795-c6db-4bee-e72c-e29610fd74f2"
      },
      "execution_count": 2,
      "outputs": [
        {
          "output_type": "stream",
          "name": "stdout",
          "text": [
            "City exists in dictionary: Paris\n"
          ]
        }
      ]
    },
    {
      "cell_type": "markdown",
      "source": [
        "26. Write a code to create a list, a tuple, and a dictionary, and print them all."
      ],
      "metadata": {
        "id": "pWqpxetZi8B8"
      }
    },
    {
      "cell_type": "code",
      "source": [
        "my_list = [10,20,30,40,50]\n",
        "my_tuple = (\"graphs\",\"orange\",\"pineapple\")\n",
        "my_dict = {\"name\":\"Diyya\",\"age\":\"23\",\"city\":\"kochi\"}\n",
        "\n",
        "print(\"List:\",my_list)\n",
        "print(\"Tuple:\",my_tuple)\n",
        "print(\"Dictionary:\",my_dict)"
      ],
      "metadata": {
        "colab": {
          "base_uri": "https://localhost:8080/"
        },
        "id": "wvLSbJpijHiW",
        "outputId": "9910f78b-9cee-4797-beb6-723ae7d8597d"
      },
      "execution_count": 4,
      "outputs": [
        {
          "output_type": "stream",
          "name": "stdout",
          "text": [
            "List: [10, 20, 30, 40, 50]\n",
            "Tuple: ('graphs', 'orange', 'pineapple')\n",
            "Dictionary: {'name': 'Diyya', 'age': '23', 'city': 'kochi'}\n"
          ]
        }
      ]
    },
    {
      "cell_type": "markdown",
      "source": [
        "27. Write a code to create a list of 5 random numbers between 1 and 100, sort it in ascending order, and print the result.(replaced)"
      ],
      "metadata": {
        "id": "sIenwTFbkdJ4"
      }
    },
    {
      "cell_type": "code",
      "source": [
        "my_list = [20,40,54,65,19]\n",
        "my_list.sort()\n",
        "\n",
        "print(\"sorted random numbers in ascending order:\",my_list)"
      ],
      "metadata": {
        "colab": {
          "base_uri": "https://localhost:8080/"
        },
        "id": "cQ2RE-C3kphT",
        "outputId": "d6a8e700-f915-47fd-b621-765ada82ab7e"
      },
      "execution_count": 8,
      "outputs": [
        {
          "output_type": "stream",
          "name": "stdout",
          "text": [
            "sorted random numbers in ascending order: [19, 20, 40, 54, 65]\n"
          ]
        }
      ]
    },
    {
      "cell_type": "markdown",
      "source": [
        "28. Write a code to create a list with strings and print the element at the third index."
      ],
      "metadata": {
        "id": "khr27Pltm4yn"
      }
    },
    {
      "cell_type": "code",
      "source": [
        "my_list = [1,2,3,4,5]\n",
        "third_element = my_list[2]\n",
        "\n",
        "print(\"Third element:\",third_element)"
      ],
      "metadata": {
        "colab": {
          "base_uri": "https://localhost:8080/"
        },
        "id": "drpFWDAom-j3",
        "outputId": "338705f1-85fd-4657-d904-d21af19cbe66"
      },
      "execution_count": 11,
      "outputs": [
        {
          "output_type": "stream",
          "name": "stdout",
          "text": [
            "Third element: 3\n"
          ]
        }
      ]
    },
    {
      "cell_type": "markdown",
      "source": [
        "29. Write a code to combine two dictionaries into one and print the result."
      ],
      "metadata": {
        "id": "BE5-MOQDqFZ2"
      }
    },
    {
      "cell_type": "code",
      "source": [
        "dict1 = {'name': 'Diyya', 'age': 23}\n",
        "dict2 = {'city': 'Kochi', 'country': 'India'}\n",
        "\n",
        "combined_dict = dict1.copy()\n",
        "combined_dict.update(dict2)\n",
        "\n",
        "print(\"Combined dictionary:\", combined_dict)\n"
      ],
      "metadata": {
        "colab": {
          "base_uri": "https://localhost:8080/"
        },
        "id": "l_KsiIstqH8K",
        "outputId": "f59429f0-14c4-4a98-c9a0-9eeb3cdda952"
      },
      "execution_count": 12,
      "outputs": [
        {
          "output_type": "stream",
          "name": "stdout",
          "text": [
            "Combined dictionary: {'name': 'Diyya', 'age': 23, 'city': 'Kochi', 'country': 'India'}\n"
          ]
        }
      ]
    },
    {
      "cell_type": "markdown",
      "source": [
        "30. Write a code to convert a list of strings into a set."
      ],
      "metadata": {
        "id": "pRm862TxrQhV"
      }
    },
    {
      "cell_type": "code",
      "source": [
        "my_list = [20,30,40,50,60]\n",
        "my_set =set(my_list)\n",
        "\n",
        "print(\"set of list:\",my_set)"
      ],
      "metadata": {
        "colab": {
          "base_uri": "https://localhost:8080/"
        },
        "id": "XjK0o4nyrEug",
        "outputId": "6261453b-9988-4346-d360-db07da6aa5ee"
      },
      "execution_count": 13,
      "outputs": [
        {
          "output_type": "stream",
          "name": "stdout",
          "text": [
            "set of list: {40, 50, 20, 60, 30}\n"
          ]
        }
      ]
    },
    {
      "cell_type": "code",
      "source": [],
      "metadata": {
        "id": "rzt5u6GLsEfE"
      },
      "execution_count": null,
      "outputs": []
    }
  ]
}